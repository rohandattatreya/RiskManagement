{
 "cells": [
  {
   "cell_type": "markdown",
   "metadata": {},
   "source": [
    "# Value at Risk and Conditional Value at risk using MonteCarlo\n"
   ]
  },
  {
   "cell_type": "code",
   "execution_count": 3,
   "metadata": {},
   "outputs": [],
   "source": [
    "# imports\n",
    "import os\n",
    "import sys\n",
    "import yfinance as yf\n",
    "import pandas as pd\n",
    "import numpy as np\n",
    "import matplotlib.pyplot as plt\n",
    "import datetime\n",
    "from scipy.stats import norm\n"
   ]
  },
  {
   "cell_type": "code",
   "execution_count": 5,
   "metadata": {},
   "outputs": [],
   "source": [
    "# Set time for a certian amount of number of years\n",
    "\n",
    "years = 15\n",
    "endDate = datetime.datetime.now()\n",
    "startDate = endDate - datetime.timedelta(days=years*365)\n",
    "\n"
   ]
  },
  {
   "cell_type": "code",
   "execution_count": 6,
   "metadata": {},
   "outputs": [],
   "source": [
    "# List of tickers\n",
    "\n",
    "tickcers = ['SPY','BND','GLD','QQQ','VTI']"
   ]
  },
  {
   "cell_type": "code",
   "execution_count": 10,
   "metadata": {},
   "outputs": [
    {
     "name": "stdout",
     "output_type": "stream",
     "text": [
      "[*********************100%%**********************]  1 of 1 completed\n",
      "[*********************100%%**********************]  1 of 1 completed\n",
      "[*********************100%%**********************]  1 of 1 completed\n",
      "[*********************100%%**********************]  1 of 1 completed\n",
      "[*********************100%%**********************]  1 of 1 completed\n",
      "                   SPY        BND         GLD         QQQ         VTI\n",
      "Date                                                                 \n",
      "2009-03-02   53.050289  49.797283   90.930000   23.278599   26.540503\n",
      "2009-03-03   52.652054  49.627857   90.040001   23.261120   26.313654\n",
      "2009-03-04   53.899452  49.621387   88.989998   23.881535   26.888336\n",
      "2009-03-05   51.697750  49.849407   91.989998   23.165005   25.799488\n",
      "2009-03-06   51.787930  49.640915   92.290001   22.981499   25.791924\n",
      "...                ...        ...         ...         ...         ...\n",
      "2024-02-21  497.209991  71.889999  187.479996  425.609985  246.949997\n",
      "2024-02-22  507.500000  71.919998  187.559998  438.070007  251.830002\n",
      "2024-02-23  507.850006  72.180000  188.619995  436.779999  252.000000\n",
      "2024-02-26  505.989990  72.050003  188.199997  436.549988  251.240005\n",
      "2024-02-27  506.929993  71.940002  188.000000  437.600006  251.940002\n",
      "\n",
      "[3774 rows x 5 columns]\n"
     ]
    }
   ],
   "source": [
    "# get adj closed prices\n",
    "\n",
    "df_adj_close = pd.DataFrame()\n",
    "\n",
    "for ticker in tickcers:\n",
    "     data = yf.download(ticker, start=startDate, end=endDate)\n",
    "     df_adj_close[ticker] = data['Adj Close']\n",
    "\n",
    "print(df_adj_close)"
   ]
  },
  {
   "cell_type": "code",
   "execution_count": 11,
   "metadata": {},
   "outputs": [
    {
     "name": "stdout",
     "output_type": "stream",
     "text": [
      "                 SPY       BND       GLD       QQQ       VTI\n",
      "Date                                                        \n",
      "2009-03-03 -0.007535 -0.003408 -0.009836 -0.000751 -0.008584\n",
      "2009-03-04  0.023415 -0.000130 -0.011730  0.026322  0.021605\n",
      "2009-03-05 -0.041706  0.004585  0.033156 -0.030463 -0.041338\n",
      "2009-03-06  0.001743 -0.004191  0.003256 -0.007953 -0.000293\n",
      "2009-03-09 -0.011823 -0.003681 -0.018813 -0.021523 -0.012093\n",
      "...              ...       ...       ...       ...       ...\n",
      "2024-02-21  0.000905 -0.002778  0.000053 -0.004010  0.000203\n",
      "2024-02-22  0.020484  0.000417  0.000427  0.028855  0.019568\n",
      "2024-02-23  0.000689  0.003609  0.005636 -0.002949  0.000675\n",
      "2024-02-26 -0.003669 -0.001803 -0.002229 -0.000527 -0.003020\n",
      "2024-02-27  0.001856 -0.001528 -0.001063  0.002402  0.002782\n",
      "\n",
      "[3773 rows x 5 columns]\n"
     ]
    }
   ],
   "source": [
    "# Calculate daily log returns and drop NaN values\n",
    "log_returns = np.log(df_adj_close/df_adj_close.shift(1))\n",
    "log_returns = log_returns.dropna()\n",
    "\n",
    "print(log_returns)"
   ]
  },
  {
   "cell_type": "code",
   "execution_count": 14,
   "metadata": {},
   "outputs": [],
   "source": [
    "# Create function to calculate portfolio expected return \n",
    "## Assuming future returns will be similar to past returns\n",
    "\n",
    "def expected_return(weights, log_returns):\n",
    "    return np.sum(weights*log_returns.mean())"
   ]
  },
  {
   "cell_type": "code",
   "execution_count": 15,
   "metadata": {},
   "outputs": [],
   "source": [
    "# Create function to calculate portfolio std deviation\n",
    "\n",
    "def portfolio_std_dev(weights, cov_matrix):\n",
    "    varience = weights.T @ cov_matrix @ weights\n",
    "    return np.sqrt(varience)"
   ]
  },
  {
   "cell_type": "code",
   "execution_count": 16,
   "metadata": {},
   "outputs": [],
   "source": [
    "# Create cov matrix\n",
    "\n",
    "cov_matrix = log_returns.cov()"
   ]
  },
  {
   "cell_type": "code",
   "execution_count": 19,
   "metadata": {},
   "outputs": [
    {
     "data": {
      "text/plain": [
       "array([0.2, 0.2, 0.2, 0.2, 0.2])"
      ]
     },
     "execution_count": 19,
     "metadata": {},
     "output_type": "execute_result"
    }
   ],
   "source": [
    "# Create Equally Weighted Portfolio\n",
    "\n",
    "portfolio_value = 100_000_000\n",
    "np.array([1/len(tickcers)]*len(tickcers))\n"
   ]
  },
  {
   "cell_type": "code",
   "execution_count": null,
   "metadata": {},
   "outputs": [],
   "source": []
  }
 ],
 "metadata": {
  "kernelspec": {
   "display_name": "Python 3",
   "language": "python",
   "name": "python3"
  },
  "language_info": {
   "codemirror_mode": {
    "name": "ipython",
    "version": 3
   },
   "file_extension": ".py",
   "mimetype": "text/x-python",
   "name": "python",
   "nbconvert_exporter": "python",
   "pygments_lexer": "ipython3",
   "version": "3.9.7"
  }
 },
 "nbformat": 4,
 "nbformat_minor": 2
}
