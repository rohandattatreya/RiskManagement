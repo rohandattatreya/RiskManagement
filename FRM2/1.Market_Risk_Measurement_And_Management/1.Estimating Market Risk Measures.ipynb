{
 "cells": [
  {
   "cell_type": "code",
   "execution_count": 2,
   "metadata": {},
   "outputs": [],
   "source": [
    "import pandas as pd\n",
    "import numpy as np\n",
    "import matplotlib.pyplot as plt\n",
    "import seaborn as sns\n",
    "import os\n",
    "import sys\n",
    "import math \n",
    "import datetime as dt\n",
    "import scipy.stats as stats\n",
    "import yfinance as yf\n",
    "\n"
   ]
  },
  {
   "cell_type": "markdown",
   "metadata": {},
   "source": [
    "# Learning Objectives\n",
    "\n",
    "Estimate VaR using a historical simulation approach.\n",
    "\n",
    "Estimate VaR using a parametric approach for both normal and lognormal return distributions.\n",
    "\n",
    "Estimate the expected shortfall given P/L or return data.\n",
    "\n",
    "Describe coherent risk measures.\n",
    "\n",
    "Estimate risk measures by estimating quantiles.\n",
    "\n",
    "Evaluate estimators of risk measures by estimating their standard errors.\n",
    "\n",
    "Interpre QQ plots to identify the characteristics of a distribution.\n"
   ]
  },
  {
   "cell_type": "code",
   "execution_count": null,
   "metadata": {},
   "outputs": [],
   "source": []
  },
  {
   "cell_type": "code",
   "execution_count": null,
   "metadata": {},
   "outputs": [],
   "source": []
  }
 ],
 "metadata": {
  "kernelspec": {
   "display_name": ".venv",
   "language": "python",
   "name": "python3"
  },
  "language_info": {
   "codemirror_mode": {
    "name": "ipython",
    "version": 3
   },
   "file_extension": ".py",
   "mimetype": "text/x-python",
   "name": "python",
   "nbconvert_exporter": "python",
   "pygments_lexer": "ipython3",
   "version": "3.9.7"
  }
 },
 "nbformat": 4,
 "nbformat_minor": 2
}
