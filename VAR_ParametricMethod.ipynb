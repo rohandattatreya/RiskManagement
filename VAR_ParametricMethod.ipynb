{
 "cells": [
  {
   "cell_type": "code",
   "execution_count": 31,
   "metadata": {},
   "outputs": [],
   "source": [
    "import pandas as pd\n",
    "import numpy as np\n",
    "import matplotlib.pyplot as plt\n",
    "import seaborn as sns\n",
    "import yfinance as yf\n",
    "import datetime\n",
    "import scipy.stats as stats\n"
   ]
  },
  {
   "cell_type": "code",
   "execution_count": 32,
   "metadata": {},
   "outputs": [],
   "source": [
    "years = 15\n",
    "start = datetime.datetime.now() - datetime.timedelta(days=years*365)\n",
    "end = datetime.datetime.now()\n",
    "\n"
   ]
  },
  {
   "cell_type": "code",
   "execution_count": 58,
   "metadata": {},
   "outputs": [],
   "source": [
    "# List of tickers\n",
    "\n",
    "tickers = ['SPY',  'BND', 'GLD','QQQ','VTI']\n"
   ]
  },
  {
   "cell_type": "code",
   "execution_count": 59,
   "metadata": {},
   "outputs": [
    {
     "name": "stdout",
     "output_type": "stream",
     "text": [
      "[*********************100%%**********************]  1 of 1 completed\n",
      "[*********************100%%**********************]  1 of 1 completed\n",
      "[*********************100%%**********************]  1 of 1 completed\n",
      "[*********************100%%**********************]  1 of 1 completed\n",
      "[*********************100%%**********************]  1 of 1 completed\n"
     ]
    }
   ],
   "source": [
    "# Download daily adjusted close prices\n",
    "\n",
    "df_adj_close = pd.DataFrame()\n",
    "\n",
    "for ticker in tickers:\n",
    "    df_adj_close[ticker] = yf.download(ticker, start=start, end=end)['Adj Close']"
   ]
  },
  {
   "cell_type": "code",
   "execution_count": 60,
   "metadata": {},
   "outputs": [
    {
     "data": {
      "text/html": [
       "<div>\n",
       "<style scoped>\n",
       "    .dataframe tbody tr th:only-of-type {\n",
       "        vertical-align: middle;\n",
       "    }\n",
       "\n",
       "    .dataframe tbody tr th {\n",
       "        vertical-align: top;\n",
       "    }\n",
       "\n",
       "    .dataframe thead th {\n",
       "        text-align: right;\n",
       "    }\n",
       "</style>\n",
       "<table border=\"1\" class=\"dataframe\">\n",
       "  <thead>\n",
       "    <tr style=\"text-align: right;\">\n",
       "      <th></th>\n",
       "      <th>SPY</th>\n",
       "      <th>BND</th>\n",
       "      <th>GLD</th>\n",
       "      <th>QQQ</th>\n",
       "      <th>VTI</th>\n",
       "    </tr>\n",
       "    <tr>\n",
       "      <th>Date</th>\n",
       "      <th></th>\n",
       "      <th></th>\n",
       "      <th></th>\n",
       "      <th></th>\n",
       "      <th></th>\n",
       "    </tr>\n",
       "  </thead>\n",
       "  <tbody>\n",
       "    <tr>\n",
       "      <th>2009-03-09</th>\n",
       "      <td>51.179279</td>\n",
       "      <td>49.320183</td>\n",
       "      <td>90.570000</td>\n",
       "      <td>22.492155</td>\n",
       "      <td>25.481913</td>\n",
       "    </tr>\n",
       "    <tr>\n",
       "      <th>2009-03-10</th>\n",
       "      <td>54.230057</td>\n",
       "      <td>49.372181</td>\n",
       "      <td>88.139999</td>\n",
       "      <td>23.881535</td>\n",
       "      <td>27.107605</td>\n",
       "    </tr>\n",
       "    <tr>\n",
       "      <th>2009-03-11</th>\n",
       "      <td>54.583214</td>\n",
       "      <td>49.476063</td>\n",
       "      <td>89.220001</td>\n",
       "      <td>24.248537</td>\n",
       "      <td>27.205902</td>\n",
       "    </tr>\n",
       "    <tr>\n",
       "      <th>2009-03-12</th>\n",
       "      <td>56.732273</td>\n",
       "      <td>49.586559</td>\n",
       "      <td>91.099998</td>\n",
       "      <td>25.052464</td>\n",
       "      <td>28.325001</td>\n",
       "    </tr>\n",
       "    <tr>\n",
       "      <th>2009-03-13</th>\n",
       "      <td>57.175594</td>\n",
       "      <td>49.547550</td>\n",
       "      <td>91.300003</td>\n",
       "      <td>25.113623</td>\n",
       "      <td>28.627453</td>\n",
       "    </tr>\n",
       "    <tr>\n",
       "      <th>...</th>\n",
       "      <td>...</td>\n",
       "      <td>...</td>\n",
       "      <td>...</td>\n",
       "      <td>...</td>\n",
       "      <td>...</td>\n",
       "    </tr>\n",
       "    <tr>\n",
       "      <th>2024-02-26</th>\n",
       "      <td>505.989990</td>\n",
       "      <td>71.848480</td>\n",
       "      <td>188.199997</td>\n",
       "      <td>436.549988</td>\n",
       "      <td>251.240005</td>\n",
       "    </tr>\n",
       "    <tr>\n",
       "      <th>2024-02-27</th>\n",
       "      <td>506.929993</td>\n",
       "      <td>71.738785</td>\n",
       "      <td>188.000000</td>\n",
       "      <td>437.600006</td>\n",
       "      <td>251.940002</td>\n",
       "    </tr>\n",
       "    <tr>\n",
       "      <th>2024-02-28</th>\n",
       "      <td>506.260010</td>\n",
       "      <td>71.898331</td>\n",
       "      <td>188.339996</td>\n",
       "      <td>435.269989</td>\n",
       "      <td>251.520004</td>\n",
       "    </tr>\n",
       "    <tr>\n",
       "      <th>2024-02-29</th>\n",
       "      <td>508.079987</td>\n",
       "      <td>72.017998</td>\n",
       "      <td>189.309998</td>\n",
       "      <td>439.000000</td>\n",
       "      <td>252.580002</td>\n",
       "    </tr>\n",
       "    <tr>\n",
       "      <th>2024-03-01</th>\n",
       "      <td>512.849976</td>\n",
       "      <td>72.320000</td>\n",
       "      <td>192.889999</td>\n",
       "      <td>445.609985</td>\n",
       "      <td>254.899994</td>\n",
       "    </tr>\n",
       "  </tbody>\n",
       "</table>\n",
       "<p>3772 rows × 5 columns</p>\n",
       "</div>"
      ],
      "text/plain": [
       "                   SPY        BND         GLD         QQQ         VTI\n",
       "Date                                                                 \n",
       "2009-03-09   51.179279  49.320183   90.570000   22.492155   25.481913\n",
       "2009-03-10   54.230057  49.372181   88.139999   23.881535   27.107605\n",
       "2009-03-11   54.583214  49.476063   89.220001   24.248537   27.205902\n",
       "2009-03-12   56.732273  49.586559   91.099998   25.052464   28.325001\n",
       "2009-03-13   57.175594  49.547550   91.300003   25.113623   28.627453\n",
       "...                ...        ...         ...         ...         ...\n",
       "2024-02-26  505.989990  71.848480  188.199997  436.549988  251.240005\n",
       "2024-02-27  506.929993  71.738785  188.000000  437.600006  251.940002\n",
       "2024-02-28  506.260010  71.898331  188.339996  435.269989  251.520004\n",
       "2024-02-29  508.079987  72.017998  189.309998  439.000000  252.580002\n",
       "2024-03-01  512.849976  72.320000  192.889999  445.609985  254.899994\n",
       "\n",
       "[3772 rows x 5 columns]"
      ]
     },
     "execution_count": 60,
     "metadata": {},
     "output_type": "execute_result"
    }
   ],
   "source": [
    "df_adj_close"
   ]
  },
  {
   "cell_type": "code",
   "execution_count": 61,
   "metadata": {},
   "outputs": [
    {
     "data": {
      "text/html": [
       "<div>\n",
       "<style scoped>\n",
       "    .dataframe tbody tr th:only-of-type {\n",
       "        vertical-align: middle;\n",
       "    }\n",
       "\n",
       "    .dataframe tbody tr th {\n",
       "        vertical-align: top;\n",
       "    }\n",
       "\n",
       "    .dataframe thead th {\n",
       "        text-align: right;\n",
       "    }\n",
       "</style>\n",
       "<table border=\"1\" class=\"dataframe\">\n",
       "  <thead>\n",
       "    <tr style=\"text-align: right;\">\n",
       "      <th></th>\n",
       "      <th>SPY</th>\n",
       "      <th>BND</th>\n",
       "      <th>GLD</th>\n",
       "      <th>QQQ</th>\n",
       "      <th>VTI</th>\n",
       "    </tr>\n",
       "    <tr>\n",
       "      <th>Date</th>\n",
       "      <th></th>\n",
       "      <th></th>\n",
       "      <th></th>\n",
       "      <th></th>\n",
       "      <th></th>\n",
       "    </tr>\n",
       "  </thead>\n",
       "  <tbody>\n",
       "    <tr>\n",
       "      <th>2009-03-10</th>\n",
       "      <td>0.057901</td>\n",
       "      <td>0.001054</td>\n",
       "      <td>-0.027197</td>\n",
       "      <td>0.059939</td>\n",
       "      <td>0.061845</td>\n",
       "    </tr>\n",
       "    <tr>\n",
       "      <th>2009-03-11</th>\n",
       "      <td>0.006491</td>\n",
       "      <td>0.002102</td>\n",
       "      <td>0.012179</td>\n",
       "      <td>0.015251</td>\n",
       "      <td>0.003620</td>\n",
       "    </tr>\n",
       "    <tr>\n",
       "      <th>2009-03-12</th>\n",
       "      <td>0.038617</td>\n",
       "      <td>0.002231</td>\n",
       "      <td>0.020853</td>\n",
       "      <td>0.032616</td>\n",
       "      <td>0.040311</td>\n",
       "    </tr>\n",
       "    <tr>\n",
       "      <th>2009-03-13</th>\n",
       "      <td>0.007784</td>\n",
       "      <td>-0.000787</td>\n",
       "      <td>0.002193</td>\n",
       "      <td>0.002438</td>\n",
       "      <td>0.010621</td>\n",
       "    </tr>\n",
       "    <tr>\n",
       "      <th>2009-03-16</th>\n",
       "      <td>-0.003027</td>\n",
       "      <td>-0.000656</td>\n",
       "      <td>-0.005492</td>\n",
       "      <td>-0.016843</td>\n",
       "      <td>-0.005562</td>\n",
       "    </tr>\n",
       "    <tr>\n",
       "      <th>...</th>\n",
       "      <td>...</td>\n",
       "      <td>...</td>\n",
       "      <td>...</td>\n",
       "      <td>...</td>\n",
       "      <td>...</td>\n",
       "    </tr>\n",
       "    <tr>\n",
       "      <th>2024-02-26</th>\n",
       "      <td>-0.003669</td>\n",
       "      <td>-0.001803</td>\n",
       "      <td>-0.002229</td>\n",
       "      <td>-0.000527</td>\n",
       "      <td>-0.003020</td>\n",
       "    </tr>\n",
       "    <tr>\n",
       "      <th>2024-02-27</th>\n",
       "      <td>0.001856</td>\n",
       "      <td>-0.001528</td>\n",
       "      <td>-0.001063</td>\n",
       "      <td>0.002402</td>\n",
       "      <td>0.002782</td>\n",
       "    </tr>\n",
       "    <tr>\n",
       "      <th>2024-02-28</th>\n",
       "      <td>-0.001323</td>\n",
       "      <td>0.002222</td>\n",
       "      <td>0.001807</td>\n",
       "      <td>-0.005339</td>\n",
       "      <td>-0.001668</td>\n",
       "    </tr>\n",
       "    <tr>\n",
       "      <th>2024-02-29</th>\n",
       "      <td>0.003588</td>\n",
       "      <td>0.001663</td>\n",
       "      <td>0.005137</td>\n",
       "      <td>0.008533</td>\n",
       "      <td>0.004206</td>\n",
       "    </tr>\n",
       "    <tr>\n",
       "      <th>2024-03-01</th>\n",
       "      <td>0.009344</td>\n",
       "      <td>0.004185</td>\n",
       "      <td>0.018734</td>\n",
       "      <td>0.014945</td>\n",
       "      <td>0.009143</td>\n",
       "    </tr>\n",
       "  </tbody>\n",
       "</table>\n",
       "<p>3771 rows × 5 columns</p>\n",
       "</div>"
      ],
      "text/plain": [
       "                 SPY       BND       GLD       QQQ       VTI\n",
       "Date                                                        \n",
       "2009-03-10  0.057901  0.001054 -0.027197  0.059939  0.061845\n",
       "2009-03-11  0.006491  0.002102  0.012179  0.015251  0.003620\n",
       "2009-03-12  0.038617  0.002231  0.020853  0.032616  0.040311\n",
       "2009-03-13  0.007784 -0.000787  0.002193  0.002438  0.010621\n",
       "2009-03-16 -0.003027 -0.000656 -0.005492 -0.016843 -0.005562\n",
       "...              ...       ...       ...       ...       ...\n",
       "2024-02-26 -0.003669 -0.001803 -0.002229 -0.000527 -0.003020\n",
       "2024-02-27  0.001856 -0.001528 -0.001063  0.002402  0.002782\n",
       "2024-02-28 -0.001323  0.002222  0.001807 -0.005339 -0.001668\n",
       "2024-02-29  0.003588  0.001663  0.005137  0.008533  0.004206\n",
       "2024-03-01  0.009344  0.004185  0.018734  0.014945  0.009143\n",
       "\n",
       "[3771 rows x 5 columns]"
      ]
     },
     "execution_count": 61,
     "metadata": {},
     "output_type": "execute_result"
    }
   ],
   "source": [
    "#  Calc daily log returns and drop na\n",
    "df_log_returns = np.log(df_adj_close/df_adj_close.shift(1))\n",
    "df_log_returns.dropna(inplace=True)\n",
    "df_log_returns\n"
   ]
  },
  {
   "cell_type": "code",
   "execution_count": 62,
   "metadata": {},
   "outputs": [
    {
     "name": "stdout",
     "output_type": "stream",
     "text": [
      "[0.2 0.2 0.2 0.2 0.2]\n"
     ]
    }
   ],
   "source": [
    "# Create equaly weighted portfolio\n",
    "\n",
    "portfolio_valiation = 1000000\n",
    "portfolio_weights = np.array([1/len(tickers)]*len(tickers))\n",
    "print(portfolio_weights)\n",
    "\n"
   ]
  },
  {
   "cell_type": "code",
   "execution_count": 63,
   "metadata": {},
   "outputs": [
    {
     "name": "stdout",
     "output_type": "stream",
     "text": [
      "Date\n",
      "2009-03-10    0.030708\n",
      "2009-03-11    0.007928\n",
      "2009-03-12    0.026925\n",
      "2009-03-13    0.004450\n",
      "2009-03-16   -0.006316\n",
      "                ...   \n",
      "2024-02-26   -0.002250\n",
      "2024-02-27    0.000890\n",
      "2024-02-28   -0.000860\n",
      "2024-02-29    0.004625\n",
      "2024-03-01    0.011270\n",
      "Length: 3771, dtype: float64\n"
     ]
    }
   ],
   "source": [
    "historical_returns = (df_log_returns*portfolio_weights).sum(axis=1)\n",
    "print(historical_returns)"
   ]
  },
  {
   "cell_type": "code",
   "execution_count": 64,
   "metadata": {},
   "outputs": [],
   "source": [
    "# VAR Parametric Method \n",
    "# 5 day period\n",
    "days = 5\n",
    "historical_x_day_returns = historical_returns.rolling(window=days).sum()\n"
   ]
  },
  {
   "cell_type": "code",
   "execution_count": 65,
   "metadata": {},
   "outputs": [],
   "source": [
    "# Cov matrix\n",
    "cov_matrix = df_log_returns.cov() * 252\n"
   ]
  },
  {
   "cell_type": "code",
   "execution_count": 66,
   "metadata": {},
   "outputs": [],
   "source": [
    "portfolio_std_dev = np.sqrt(portfolio_weights .T @ cov_matrix @ portfolio_weights)"
   ]
  },
  {
   "cell_type": "code",
   "execution_count": 67,
   "metadata": {},
   "outputs": [],
   "source": [
    "condidence_level = [.9, .95, .99]\n"
   ]
  },
  {
   "cell_type": "code",
   "execution_count": 68,
   "metadata": {},
   "outputs": [],
   "source": [
    "from scipy.stats import norm\n",
    "\n",
    "VARs = []\n",
    "\n",
    "for cl in condidence_level:\n",
    "    VARs.append(portfolio_valiation * portfolio_std_dev * norm.ppf(cl) * np.sqrt(days/252))\n",
    "   "
   ]
  },
  {
   "cell_type": "code",
   "execution_count": 69,
   "metadata": {},
   "outputs": [
    {
     "name": "stdout",
     "output_type": "stream",
     "text": [
      " Confidence Level     Value at Risk       \n",
      "----------------------------------------\n",
      "    90%:          $ 21,358.70\n",
      "    95%:          $ 27,413.59\n",
      "    99%:          $ 38,771.56\n"
     ]
    }
   ],
   "source": [
    "# Print VAR results\n",
    "\n",
    "print(f' {\"Confidence Level\":<20} {\"Value at Risk\":<20}')\n",
    "print('-' *40)\n",
    "\n",
    "# Print each confidence level and its corresponding VAR\n",
    "for cl, var in zip(condidence_level, VARs):\n",
    "    # print(f' { cl * 100:>6.0f}%: {\"\":>8}${var:>10, .2f}')\n",
    "    # print(f'{cl * 100:>6.0f}%: {\"\":<8} ${var:>10, 2f}')\n",
    "    print(f'{cl * 100:>6.0f}%: {\"\":<8} ${var:>10,.2f}')"
   ]
  },
  {
   "cell_type": "code",
   "execution_count": null,
   "metadata": {},
   "outputs": [],
   "source": []
  }
 ],
 "metadata": {
  "kernelspec": {
   "display_name": "Python 3",
   "language": "python",
   "name": "python3"
  },
  "language_info": {
   "codemirror_mode": {
    "name": "ipython",
    "version": 3
   },
   "file_extension": ".py",
   "mimetype": "text/x-python",
   "name": "python",
   "nbconvert_exporter": "python",
   "pygments_lexer": "ipython3",
   "version": "3.9.7"
  }
 },
 "nbformat": 4,
 "nbformat_minor": 2
}
