{
 "cells": [
  {
   "cell_type": "markdown",
   "metadata": {},
   "source": [
    "# Linear Programing"
   ]
  },
  {
   "cell_type": "code",
   "execution_count": 3,
   "metadata": {},
   "outputs": [],
   "source": [
    "from docplex.mp.model import Model"
   ]
  },
  {
   "cell_type": "markdown",
   "metadata": {},
   "source": [
    "## Problem Statement\n",
    "\n",
    "#### Maggie Stewart loves desserts, but due to weight and cholesterol problems, she has decided that she must plan her desserts carefully. There are two possible desserts she is considering: snack bars and ice cream. After reading the nutritional labels on the snack bar and ice cream packages, she learns that each \"serving\" of snack bar weighs 37 grams and contains 120 calories and 5 grams of fat. Each \"serving\" of ice cream weighs 65 grams and contains 160 calories and 10 grams of fat.Maggie will allow herself no more than 450 calories and 25 grams of fat in her daily desserts, but because she loves desserts so much, she requires at least 120 grams of dessert per day. Also she assigns a \"taste index\" to each gram of each dessert, where 0 is the lowest and 100 is the highest. She assigns a taste index of 95 to ice cream and 85 to snack bars (since she prefers ice cream to snack bars)\n",
    "#### What should her daily dessert plan be to stay within her constraints and maximize the total taste index of her dessert?\n",
    "\n",
    "\n",
    "\n"
   ]
  },
  {
   "cell_type": "markdown",
   "metadata": {},
   "source": [
    "## z=85x+95y\n",
    "\n",
    "## 120x+160y≤450 Maggie will allow herself no more than 450 calories per day.\n",
    "## 5x+10y≤25 Maggie will allow herself no more than 25 grams of fat per day.\n",
    "## 37x+65y≥120 Maggie requires at least 120 grams of dessert per day.\n",
    "## x,y≥0 The number of servings of each dessert cannot be negative."
   ]
  },
  {
   "cell_type": "code",
   "execution_count": 4,
   "metadata": {},
   "outputs": [],
   "source": [
    "mdl = Model(name='calories')"
   ]
  },
  {
   "cell_type": "markdown",
   "metadata": {},
   "source": [
    "## Variables"
   ]
  },
  {
   "cell_type": "code",
   "execution_count": 10,
   "metadata": {},
   "outputs": [
    {
     "ename": "SyntaxError",
     "evalue": "invalid syntax (2368786810.py, line 1)",
     "output_type": "error",
     "traceback": [
      "\u001b[0;36m  Cell \u001b[0;32mIn[10], line 1\u001b[0;36m\u001b[0m\n\u001b[0;31m    snacks_consumption = m.(name='snacks_consumption')\u001b[0m\n\u001b[0m                           ^\u001b[0m\n\u001b[0;31mSyntaxError\u001b[0m\u001b[0;31m:\u001b[0m invalid syntax\n"
     ]
    }
   ],
   "source": [
    "snacks_consumption = m.continous_var(name='snacks_consumption')\n",
    "ice_cream_consumption = m.continuous_var(name='ice_cream_consumption')\n"
   ]
  },
  {
   "cell_type": "code",
   "execution_count": null,
   "metadata": {},
   "outputs": [],
   "source": [
    "chair_profit = 16\n",
    "table_profit = 10"
   ]
  },
  {
   "cell_type": "code",
   "execution_count": null,
   "metadata": {},
   "outputs": [],
   "source": [
    "# Prodcution constraints\n",
    "m.add_constraint(chair_production >= 0)"
   ]
  },
  {
   "cell_type": "markdown",
   "metadata": {},
   "source": []
  },
  {
   "cell_type": "code",
   "execution_count": 41,
   "metadata": {},
   "outputs": [
    {
     "name": "stdout",
     "output_type": "stream",
     "text": [
      "Welcome to the CBC MILP Solver \n",
      "Version: 2.10.3 \n",
      "Build Date: Dec 15 2019 \n",
      "\n",
      "command line - /Users/rohandattatreya/RiskManagement/.venv/lib/python3.9/site-packages/pulp/solverdir/cbc/osx/64/cbc /var/folders/dz/ghbwzms55k9cvryldwqyspsr0000gn/T/caab1607e9294f348ce784adb7ba803c-pulp.mps -max -timeMode elapsed -branch -printingOptions all -solution /var/folders/dz/ghbwzms55k9cvryldwqyspsr0000gn/T/caab1607e9294f348ce784adb7ba803c-pulp.sol (default strategy 1)\n",
      "At line 2 NAME          MODEL\n",
      "At line 3 ROWS\n",
      "At line 8 COLUMNS\n",
      "At line 21 RHS\n",
      "At line 25 BOUNDS\n",
      "At line 28 ENDATA\n",
      "Problem MODEL has 3 rows, 2 columns and 6 elements\n",
      "Coin0008I MODEL read with 0 errors\n",
      "Option for timeMode changed from cpu to elapsed\n",
      "Continuous objective value is 15725 - 0.00 seconds\n",
      "Cgl0004I processed model has 2 rows, 2 columns (2 integer (0 of which binary)) and 4 elements\n",
      "Cutoff increment increased from 1e-05 to 4.9999\n",
      "Cbc0012I Integer solution of -15725 found by DiveCoefficient after 0 iterations and 0 nodes (0.00 seconds)\n",
      "Cbc0001I Search completed - best objective -15725, took 0 iterations and 0 nodes (0.00 seconds)\n",
      "Cbc0035I Maximum depth 0, 0 variables fixed on reduced cost\n",
      "Cuts at root node changed objective from -15725 to -15725\n",
      "Probing was tried 0 times and created 0 cuts of which 0 were active after adding rounds of cuts (0.000 seconds)\n",
      "Gomory was tried 0 times and created 0 cuts of which 0 were active after adding rounds of cuts (0.000 seconds)\n",
      "Knapsack was tried 0 times and created 0 cuts of which 0 were active after adding rounds of cuts (0.000 seconds)\n",
      "Clique was tried 0 times and created 0 cuts of which 0 were active after adding rounds of cuts (0.000 seconds)\n",
      "MixedIntegerRounding2 was tried 0 times and created 0 cuts of which 0 were active after adding rounds of cuts (0.000 seconds)\n",
      "FlowCover was tried 0 times and created 0 cuts of which 0 were active after adding rounds of cuts (0.000 seconds)\n",
      "TwoMirCuts was tried 0 times and created 0 cuts of which 0 were active after adding rounds of cuts (0.000 seconds)\n",
      "ZeroHalf was tried 0 times and created 0 cuts of which 0 were active after adding rounds of cuts (0.000 seconds)\n",
      "\n",
      "Result - Optimal solution found\n",
      "\n",
      "Objective value:                15725.00000000\n",
      "Enumerated nodes:               0\n",
      "Total iterations:               0\n",
      "Time (CPU seconds):             0.00\n",
      "Time (Wallclock seconds):       0.00\n",
      "\n",
      "Option for printingOptions changed from normal to all\n",
      "Total time (CPU seconds):       0.00   (Wallclock seconds):       0.00\n",
      "\n",
      "Daily dessert plan:\n",
      "Snack Bars (x): 5 servings\n",
      "Ice Cream (y): 0 servings\n",
      "Total Taste Index (Z): 15725.0\n"
     ]
    }
   ],
   "source": [
    "from pulp import LpMaximize, LpProblem, LpVariable, LpInteger\n",
    "\n",
    "# Create a LP Maximize problem\n",
    "prob = LpProblem(\"Maggie's Dessert Planning\", LpMaximize)\n",
    "\n",
    "# Define integer decision variables\n",
    "x = LpVariable(\"x\", lowBound=0, cat=LpInteger)  # Number of servings of snack bars\n",
    "y = LpVariable(\"y\", lowBound=0, cat=LpInteger)  # Number of servings of ice cream\n",
    "\n",
    "# Define objective function\n",
    "prob += 3145 * x + 6175 * y, \"Total Taste Index (Z)\"\n",
    "\n",
    "# Define constraints\n",
    "prob += 120 * x + 160 * y <= 1000, \"Caloric Constraint\"\n",
    "prob += 5 * x + 10 * y <= 25, \"Fat Constraint\"\n",
    "prob += 37 * x + 65 * y >= 120, \"Dessert Quantity Constraint\"\n",
    "\n",
    "# Solve the problem\n",
    "prob.solve()\n",
    "\n",
    "# Print the results\n",
    "if prob.status == 1:\n",
    "    print(\"Daily dessert plan:\")\n",
    "    print(\"Snack Bars (x):\", int(x.varValue), \"servings\")\n",
    "    print(\"Ice Cream (y):\", int(y.varValue), \"servings\")\n",
    "    print(\"Total Taste Index (Z):\", round(prob.objective.value(), 2))\n",
    "else:\n",
    "    print(\"No solution found.\")\n"
   ]
  },
  {
   "cell_type": "code",
   "execution_count": 1,
   "metadata": {},
   "outputs": [
    {
     "name": "stdout",
     "output_type": "stream",
     "text": [
      "Daily dessert plan:\n",
      "Snack Bars (x): 5.0 servings\n",
      "Ice Cream (y): 0.0 servings\n",
      "Total Taste Index (Z): 15725.0\n"
     ]
    },
    {
     "name": "stderr",
     "output_type": "stream",
     "text": [
      "/var/folders/dz/ghbwzms55k9cvryldwqyspsr0000gn/T/ipykernel_72566/1536902186.py:17: DeprecationWarning: `method='simplex'` is deprecated and will be removed in SciPy 1.11.0. Please use one of the HiGHS solvers (e.g. `method='highs'`) in new code.\n",
      "  result = linprog(c, A_ub=A, b_ub=b, bounds=[x_bounds, y_bounds], method='simplex')\n"
     ]
    }
   ],
   "source": [
    "from scipy.optimize import linprog\n",
    "\n",
    "# Define the coefficients of the objective function\n",
    "c = [-85*37, -95*65]  # Maximizing -85x - 95y is equivalent to minimizing 85x + 95y\n",
    "\n",
    "# Define the coefficients of the inequality constraints (Ax <= b)\n",
    "A = [[120, 160],   # Caloric constraint: 120x + 160y <= 450\n",
    "     [5, 10],       # Fat constraint: 5x + 10y <= 25\n",
    "     [-37, -65]]    # Dessert quantity constraint: -37x - 65y <= -120\n",
    "b = [1000, 25, -120]\n",
    "\n",
    "# Define bounds for variables x and y: x, y >= 0\n",
    "x_bounds = (0, None)\n",
    "y_bounds = (0, None)\n",
    "\n",
    "# Solve the linear programming problem using the simplex method\n",
    "result = linprog(c, A_ub=A, b_ub=b, bounds=[x_bounds, y_bounds], method='simplex')\n",
    "\n",
    "# Print the results\n",
    "if result.success:\n",
    "    print(\"Daily dessert plan:\")\n",
    "    print(\"Snack Bars (x):\", round(result.x[0], 2), \"servings\")\n",
    "    print(\"Ice Cream (y):\", round(result.x[1], 2), \"servings\")\n",
    "    print(\"Total Taste Index (Z):\", -round(result.fun, 2))\n",
    "else:\n",
    "    print(\"No solution found.\")"
   ]
  },
  {
   "cell_type": "code",
   "execution_count": null,
   "metadata": {},
   "outputs": [],
   "source": [
    "gr"
   ]
  }
 ],
 "metadata": {
  "kernelspec": {
   "display_name": ".venv",
   "language": "python",
   "name": "python3"
  },
  "language_info": {
   "codemirror_mode": {
    "name": "ipython",
    "version": 3
   },
   "file_extension": ".py",
   "mimetype": "text/x-python",
   "name": "python",
   "nbconvert_exporter": "python",
   "pygments_lexer": "ipython3",
   "version": "3.9.7"
  }
 },
 "nbformat": 4,
 "nbformat_minor": 2
}
