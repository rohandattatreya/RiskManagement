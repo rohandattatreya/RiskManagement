{
 "cells": [
  {
   "cell_type": "markdown",
   "metadata": {},
   "source": [
    "# Value at Risk and Conditional Value at risk using MonteCarlo\n"
   ]
  },
  {
   "cell_type": "code",
   "execution_count": 3,
   "metadata": {},
   "outputs": [],
   "source": [
    "# imports\n",
    "import os\n",
    "import sys\n",
    "import yfinance as yf\n",
    "import pandas as pd\n",
    "import numpy as np\n",
    "import matplotlib.pyplot as plt\n",
    "import datetime\n",
    "from scipy.stats import norm\n"
   ]
  },
  {
   "cell_type": "code",
   "execution_count": 4,
   "metadata": {},
   "outputs": [],
   "source": [
    "# Set time for a certian amount of number of years\n",
    "\n",
    "years = 15\n",
    "endDate = datetime.datetime.now()\n",
    "startDate = endDate - datetime.timedelta(days=years*365)\n",
    "\n"
   ]
  },
  {
   "cell_type": "code",
   "execution_count": 5,
   "metadata": {},
   "outputs": [],
   "source": [
    "# List of tickers\n",
    "\n",
    "tickcers = ['SPY','BND','GLD','QQQ','VTI']"
   ]
  },
  {
   "cell_type": "code",
   "execution_count": 6,
   "metadata": {},
   "outputs": [
    {
     "name": "stdout",
     "output_type": "stream",
     "text": [
      "[*********************100%%**********************]  1 of 1 completed\n",
      "[*********************100%%**********************]  1 of 1 completed\n",
      "[*********************100%%**********************]  1 of 1 completed\n",
      "[*********************100%%**********************]  1 of 1 completed\n",
      "[*********************100%%**********************]  1 of 1 completed\n",
      "                   SPY        BND         GLD         QQQ         VTI\n",
      "Date                                                                 \n",
      "2009-03-05   51.697758  49.849388   91.989998   23.165009   25.799486\n",
      "2009-03-06   51.787914  49.640945   92.290001   22.981491   25.791927\n",
      "2009-03-09   51.179260  49.458527   90.570000   22.492161   25.481916\n",
      "2009-03-10   54.230053  49.510593   88.139999   23.881531   27.107609\n",
      "2009-03-11   54.583214  49.614864   89.220001   24.248541   27.205906\n",
      "...                ...        ...         ...         ...         ...\n",
      "2024-02-23  507.850006  72.180000  188.619995  436.779999  252.000000\n",
      "2024-02-26  505.989990  72.050003  188.199997  436.549988  251.240005\n",
      "2024-02-27  506.929993  71.940002  188.000000  437.600006  251.940002\n",
      "2024-02-28  506.260010  72.099998  188.339996  435.269989  251.520004\n",
      "2024-02-29  508.079987  72.220001  189.309998  439.000000  252.580002\n",
      "\n",
      "[3773 rows x 5 columns]\n"
     ]
    }
   ],
   "source": [
    "# get adj closed prices\n",
    "\n",
    "df_adj_close = pd.DataFrame()\n",
    "\n",
    "for ticker in tickcers:\n",
    "     data = yf.download(ticker, start=startDate, end=endDate)\n",
    "     df_adj_close[ticker] = data['Adj Close']\n",
    "\n",
    "print(df_adj_close)"
   ]
  },
  {
   "cell_type": "code",
   "execution_count": 7,
   "metadata": {},
   "outputs": [
    {
     "name": "stdout",
     "output_type": "stream",
     "text": [
      "                 SPY       BND       GLD       QQQ       VTI\n",
      "Date                                                        \n",
      "2009-03-06  0.001742 -0.004190  0.003256 -0.007954 -0.000293\n",
      "2009-03-09 -0.011822 -0.003682 -0.018813 -0.021522 -0.012093\n",
      "2009-03-10  0.057901  0.001052 -0.027197  0.059939  0.061845\n",
      "2009-03-11  0.006491  0.002104  0.012179  0.015251  0.003620\n",
      "2009-03-12  0.038617  0.002230  0.020853  0.032615  0.040311\n",
      "...              ...       ...       ...       ...       ...\n",
      "2024-02-23  0.000689  0.003609  0.005636 -0.002949  0.000675\n",
      "2024-02-26 -0.003669 -0.001803 -0.002229 -0.000527 -0.003020\n",
      "2024-02-27  0.001856 -0.001528 -0.001063  0.002402  0.002782\n",
      "2024-02-28 -0.001323  0.002222  0.001807 -0.005339 -0.001668\n",
      "2024-02-29  0.003588  0.001663  0.005137  0.008533  0.004206\n",
      "\n",
      "[3772 rows x 5 columns]\n"
     ]
    }
   ],
   "source": [
    "# Calculate daily log returns and drop NaN values\n",
    "log_returns = np.log(df_adj_close/df_adj_close.shift(1))\n",
    "log_returns = log_returns.dropna()\n",
    "\n",
    "print(log_returns)"
   ]
  },
  {
   "cell_type": "code",
   "execution_count": 8,
   "metadata": {},
   "outputs": [],
   "source": [
    "# Create function to calculate portfolio expected return \n",
    "## Assuming future returns will be similar to past returns\n",
    "\n",
    "def expected_return(weights, log_returns):\n",
    "    return np.sum(weights*log_returns.mean())"
   ]
  },
  {
   "cell_type": "code",
   "execution_count": 9,
   "metadata": {},
   "outputs": [],
   "source": [
    "# Create function to calculate portfolio std deviation\n",
    "\n",
    "def portfolio_std_dev(weights, cov_matrix):\n",
    "    varience = weights.T @ cov_matrix @ weights\n",
    "    return np.sqrt(varience)"
   ]
  },
  {
   "cell_type": "code",
   "execution_count": 10,
   "metadata": {},
   "outputs": [],
   "source": [
    "# Create cov matrix\n",
    "\n",
    "cov_matrix = log_returns.cov()"
   ]
  },
  {
   "cell_type": "code",
   "execution_count": 11,
   "metadata": {},
   "outputs": [],
   "source": [
    "# Create Equally Weighted Portfolio\n",
    "\n",
    "#  Find total portfolio return and std deviation\n",
    "\n",
    "portfolio_value = 1_000_000\n",
    "weights = np.array([1/len(tickcers)]*len(tickcers))\n",
    "portfolio_return_expected = expected_return(weights, log_returns)\n",
    "portfolio_std_dev = portfolio_std_dev(weights, cov_matrix)\n",
    "\n",
    "\n",
    "\n"
   ]
  },
  {
   "cell_type": "code",
   "execution_count": 12,
   "metadata": {},
   "outputs": [],
   "source": [
    "# function that gives random Z score based on normal distribution\n",
    "\n",
    "def random_z_score():\n",
    "    return np.random.normal(0,1)\n"
   ]
  },
  {
   "cell_type": "code",
   "execution_count": 13,
   "metadata": {},
   "outputs": [],
   "source": [
    "# Function to calcluate senario gain or loss\n",
    "\n",
    "days = 20\n",
    "def scenario_gain_loss(portfolio_value,portfolio_return_expected, portfolio_std_dev, days, z_score):\n",
    "    return portfolio_value * portfolio_return_expected * days + portfolio_value * portfolio_std_dev*np.sqrt(days)*z_score\n"
   ]
  },
  {
   "cell_type": "code",
   "execution_count": 14,
   "metadata": {},
   "outputs": [],
   "source": [
    "# 10,000 sumulations\n",
    "\n",
    "simulations = 100000\n",
    "Senario_Returns = []\n",
    "\n",
    "for i in range(simulations):\n",
    "    z_score = random_z_score()\n",
    "    # scenario_return = scenario_gain_loss(portfolio_value,portfolio_return_expected, portfolio_std_dev, days, z_score)\n",
    "    Senario_Returns.append(scenario_gain_loss(portfolio_value,portfolio_return_expected, portfolio_std_dev, days, z_score))\n"
   ]
  },
  {
   "cell_type": "code",
   "execution_count": 24,
   "metadata": {},
   "outputs": [
    {
     "name": "stdout",
     "output_type": "stream",
     "text": [
      "VAR is -68,623.05 at Confidence Interval 99.0%\n"
     ]
    }
   ],
   "source": [
    "# Specify the confidence interval and calculate the VaR\n",
    "\n",
    "confidence_interval = 0.99\n",
    "VAR = round(np.percentile(Senario_Returns, 100*(1-confidence_interval)),2)\n",
    "print(f\"VAR is {VAR:,}\", \"at \" f\"Confidence Interval {confidence_interval*100}%\")"
   ]
  },
  {
   "cell_type": "code",
   "execution_count": 25,
   "metadata": {},
   "outputs": [
    {
     "data": {
      "image/png": "[encoded data removed]",
      "text/plain": [
       "<Figure size 432x288 with 1 Axes>"
      ]
     },
     "metadata": {
      "needs_background": "light"
     },
     "output_type": "display_data"
    }
   ],
   "source": [
    "# Plot the distribution of the portfolio returns\n",
    "\n",
    "plt.hist(Senario_Returns, bins=100, edgecolor='black')\n",
    "plt.axvline(x=VAR, color='r', linestyle='--', label=f'VaR: {VAR:,}')\n",
    "plt.title('Distribution of Portfolio Returns')\n",
    "plt.xlabel('Portfolio Returns')\n",
    "plt.ylabel('Frequency')\n",
    "plt.legend()\n",
    "plt.show()\n"
   ]
  },
  {
   "cell_type": "code",
   "execution_count": null,
   "metadata": {},
   "outputs": [],
   "source": []
  }
 ],
 "metadata": {
  "kernelspec": {
   "display_name": "Python 3",
   "language": "python",
   "name": "python3"
  },
  "language_info": {
   "codemirror_mode": {
    "name": "ipython",
    "version": 3
   },
   "file_extension": ".py",
   "mimetype": "text/x-python",
   "name": "python",
   "nbconvert_exporter": "python",
   "pygments_lexer": "ipython3",
   "version": "3.9.7"
  }
 },
 "nbformat": 4,
 "nbformat_minor": 2
}
